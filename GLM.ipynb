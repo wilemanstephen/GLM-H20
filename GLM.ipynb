{
 "cells": [
  {
   "cell_type": "markdown",
   "id": "5b31d992",
   "metadata": {},
   "source": [
    "## Initialization"
   ]
  },
  {
   "cell_type": "code",
   "execution_count": null,
   "id": "990bb84a-96ae-4f50-aa05-053b45a5d72c",
   "metadata": {},
   "outputs": [],
   "source": [
    "%pip install h2o matplotlib seaborn"
   ]
  },
  {
   "cell_type": "code",
   "execution_count": null,
   "id": "5ecad9f2-aa5c-4614-b04e-92f03db584e3",
   "metadata": {},
   "outputs": [],
   "source": [
    "import h2o\n",
    "h2o.init()"
   ]
  },
  {
   "cell_type": "markdown",
   "id": "bc3002d0",
   "metadata": {},
   "source": [
    "## Importing and Understanding the CSV"
   ]
  },
  {
   "cell_type": "code",
   "execution_count": null,
   "id": "82e71fcd-d6ba-4889-8b4e-75b391dcfabe",
   "metadata": {},
   "outputs": [],
   "source": [
    "data = h2o.import_file(\"Top_scientists_2023.csv\")\n",
    "data.head()"
   ]
  },
  {
   "cell_type": "code",
   "execution_count": null,
   "id": "ff0f6e27-04af-4c7e-855d-698410c61355",
   "metadata": {},
   "outputs": [],
   "source": [
    "data.columns"
   ]
  },
  {
   "cell_type": "code",
   "execution_count": null,
   "id": "f2679192-0629-442c-91d1-7855346ea57a",
   "metadata": {},
   "outputs": [],
   "source": [
    "data.describe()"
   ]
  },
  {
   "cell_type": "markdown",
   "id": "93fc599b",
   "metadata": {},
   "source": [
    "## Preprocessing"
   ]
  },
  {
   "cell_type": "code",
   "execution_count": null,
   "id": "f14be67b-b0cd-4545-b682-b3ad7df37b67",
   "metadata": {},
   "outputs": [],
   "source": [
    "for col in data.columns:\n",
    "    if data[col].isstring()[0]:\n",
    "        data[col] = data[col].asfactor()"
   ]
  },
  {
   "cell_type": "code",
   "execution_count": null,
   "id": "bda6a837-deef-4a5f-b848-9254af7d7a3e",
   "metadata": {},
   "outputs": [],
   "source": [
    "numeric_cols = [col for col in data.columns if data[col].isnumeric()[0]]\n",
    "normalized = data[numeric_cols].scale(center=True, scale=True)\n",
    "for col in numeric_cols:\n",
    "    data[col] = normalized[col]"
   ]
  },
  {
   "cell_type": "markdown",
   "id": "fb59d3c3",
   "metadata": {},
   "source": [
    "## Model Creation, Training & Cross-Validation"
   ]
  },
  {
   "cell_type": "code",
   "execution_count": null,
   "id": "1e057eca-76ff-4bb8-9dd1-1131e8692a76",
   "metadata": {},
   "outputs": [],
   "source": [
    "data[\"high_impact\"] = (data[\"h23\"] >= 5).asfactor()\n",
    "data[\"high_impact\"].table()"
   ]
  },
  {
   "cell_type": "code",
   "execution_count": null,
   "id": "5594abd3-0836-4a8a-b29f-8826abec498d",
   "metadata": {},
   "outputs": [],
   "source": [
    "class_true = data[data[\"high_impact\"].ascharacter() == \"1\"]\n",
    "class_false = data[data[\"high_impact\"].ascharacter() == \"0\"]\n",
    "print(\"TRUE total:\", class_true.nrows)\n",
    "print(\"FALSE total:\", class_false.nrows)"
   ]
  },
  {
   "cell_type": "code",
   "execution_count": null,
   "id": "078ec64d-49da-4592-aa28-f1224da6ee30",
   "metadata": {},
   "outputs": [],
   "source": [
    "true_train, true_rest = class_true.split_frame(ratios=[0.7], seed=42)\n",
    "true_valid, true_test = true_rest.split_frame(ratios=[0.5], seed=42)\n",
    "false_train, false_rest = class_false.split_frame(ratios=[0.7], seed=42)\n",
    "false_valid, false_test = false_rest.split_frame(ratios=[0.5], seed=42)\n",
    "train = true_train.rbind(false_train)\n",
    "valid = true_valid.rbind(false_valid)\n",
    "test = true_test.rbind(false_test)\n",
    "train[\"high_impact\"].table()"
   ]
  },
  {
   "cell_type": "code",
   "execution_count": null,
   "id": "f43a1bf9-7fd2-4928-8539-02251553e289",
   "metadata": {},
   "outputs": [],
   "source": [
    "predictors = [\n",
    "    \"sm-subfield-1-frac\",\n",
    "    \"sm-subfield-2-frac\",\n",
    "    \"sm-field-frac\"\n",
    "]"
   ]
  },
  {
   "cell_type": "code",
   "execution_count": null,
   "id": "1b992663-7c0e-4af2-b436-6bb0c323f3f8",
   "metadata": {},
   "outputs": [],
   "source": [
    "from h2o.estimators.glm import H2OGeneralizedLinearEstimator\n",
    "glm_cv = H2OGeneralizedLinearEstimator(\n",
    "    family=\"binomial\",\n",
    "    nfolds=5,              \n",
    "    keep_cross_validation_models=True,\n",
    "    keep_cross_validation_predictions=True,\n",
    "    keep_cross_validation_fold_assignment=True,\n",
    "    lambda_search=True,\n",
    "    seed=42\n",
    ")\n",
    "glm_cv.train(\n",
    "    x=predictors,\n",
    "    y=\"high_impact\",\n",
    "    training_frame=train\n",
    ")"
   ]
  },
  {
   "cell_type": "code",
   "execution_count": null,
   "id": "09a5f8f5-46cf-489e-b993-d1e203407dc0",
   "metadata": {},
   "outputs": [],
   "source": [
    "perf = glm_cv.model_performance(xval=True)\n",
    "perf"
   ]
  },
  {
   "cell_type": "code",
   "execution_count": null,
   "id": "76e23abf-7fe9-4dfb-a171-6f16234f20bb",
   "metadata": {},
   "outputs": [],
   "source": [
    "print(\"AUC (CV):\", perf.auc())\n",
    "perf.confusion_matrix()"
   ]
  },
  {
   "cell_type": "code",
   "execution_count": null,
   "id": "012a9222-b4bb-44bb-8677-dc88e47166e7",
   "metadata": {},
   "outputs": [],
   "source": [
    "pred = glm_cv.predict(test)\n",
    "actual = test[\"high_impact\"].as_data_frame().values.flatten()\n",
    "predicted = pred[\"predict\"].as_data_frame().values.flatten()"
   ]
  },
  {
   "cell_type": "markdown",
   "id": "ce3279da",
   "metadata": {},
   "source": [
    "## Plots"
   ]
  },
  {
   "cell_type": "code",
   "execution_count": null,
   "id": "b7cbab91-7be1-45a2-b147-6e73a6b9dfd3",
   "metadata": {},
   "outputs": [],
   "source": [
    "from sklearn.metrics import confusion_matrix, ConfusionMatrixDisplay\n",
    "import matplotlib.pyplot as plt\n",
    "cm = confusion_matrix(actual, predicted)\n",
    "disp = ConfusionMatrixDisplay(confusion_matrix=cm, display_labels=[\"Low Impact\", \"High Impact\"])\n",
    "disp.plot(cmap='Blues')\n",
    "plt.title(\"Confusion Matrix\")\n",
    "plt.show()"
   ]
  },
  {
   "cell_type": "code",
   "execution_count": null,
   "id": "e7440fea-c0f8-4115-92d0-dbc60e45aba1",
   "metadata": {},
   "outputs": [],
   "source": [
    "probs = pred[\"p1\"].as_data_frame().values.flatten()"
   ]
  },
  {
   "cell_type": "code",
   "execution_count": null,
   "id": "4259dc08-cffe-40c8-90e9-c1dab8d80e42",
   "metadata": {},
   "outputs": [],
   "source": [
    "from sklearn.metrics import roc_curve, auc\n",
    "fpr, tpr, _ = roc_curve(actual, probs)\n",
    "roc_auc = auc(fpr, tpr)\n",
    "plt.figure()\n",
    "plt.plot(fpr, tpr, label=f\"AUC = {roc_auc:.2f}\")\n",
    "plt.plot([0, 1], [0, 1], linestyle='--', color='gray')\n",
    "plt.xlabel(\"False Positive Rate\")\n",
    "plt.ylabel(\"True Positive Rate\")\n",
    "plt.title(\"ROC Curve\")\n",
    "plt.legend(loc=\"lower right\")\n",
    "plt.grid(True)\n",
    "plt.show()"
   ]
  },
  {
   "cell_type": "markdown",
   "id": "493cb5c3",
   "metadata": {},
   "source": [
    "## Predictions (Final Output)"
   ]
  },
  {
   "cell_type": "code",
   "execution_count": null,
   "id": "7a9157ca-c7b2-4be9-82f3-e37a87afe4a1",
   "metadata": {},
   "outputs": [],
   "source": [
    "model_path = h2o.save_model(model=glm_cv, path=r\"C:\\users\\matei\\Desktop\\Semester 4\\PBDAS\\Projects\\GLM\", force=True)\n",
    "print(\"Model saved at:\", model_path)"
   ]
  },
  {
   "cell_type": "code",
   "execution_count": null,
   "id": "3ada1a17-dbeb-41b7-9c75-067a940a1e53",
   "metadata": {},
   "outputs": [],
   "source": [
    "pred_df = pred.cbind(test[\"high_impact\"])\n",
    "h2o.export_file(pred_df, path=r\"C:\\users\\matei\\Desktop\\Semester 4\\PBDAS\\Projects\\GLM\\predictions.csv\", force=True)"
   ]
  },
  {
   "cell_type": "code",
   "execution_count": null,
   "id": "b49b7c21-58a1-4784-a51c-e8ad25d31f17",
   "metadata": {},
   "outputs": [],
   "source": [
    "h2o.export_file(data, path=r\"C:\\users\\matei\\Desktop\\Semester 4\\PBDAS\\Projects\\GLM\\processed_dataset.csv\", force=True)"
   ]
  }
 ],
 "metadata": {
  "kernelspec": {
   "display_name": "Python 3",
   "language": "python",
   "name": "python3"
  },
  "language_info": {
   "codemirror_mode": {
    "name": "ipython",
    "version": 3
   },
   "file_extension": ".py",
   "mimetype": "text/x-python",
   "name": "python",
   "nbconvert_exporter": "python",
   "pygments_lexer": "ipython3",
   "version": "3.12.3"
  }
 },
 "nbformat": 4,
 "nbformat_minor": 5
}
